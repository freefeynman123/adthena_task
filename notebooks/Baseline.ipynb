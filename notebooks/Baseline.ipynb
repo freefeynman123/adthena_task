{
 "cells": [
  {
   "cell_type": "markdown",
   "metadata": {},
   "source": [
    "## Baseline classification\n",
    "\n",
    "In this notebook basic implementation of query classification is provided. It based on:\n",
    "    \n",
    "https://towardsdatascience.com/multi-class-text-classification-with-doc2vec-logistic-regression-9da9947b43f4\n",
    "\n",
    "and provides implementation of Doc2Vec + Logistic Regression pipeline.\n",
    "\n",
    "Since I didn't want this implementation to infere with BERT main pipeline, all of the code is provided directly in notebook."
   ]
  },
  {
   "cell_type": "code",
   "execution_count": 1,
   "metadata": {},
   "outputs": [],
   "source": [
    "import sys\n",
    "sys.path.append(\"../src\")"
   ]
  },
  {
   "cell_type": "code",
   "execution_count": 2,
   "metadata": {},
   "outputs": [],
   "source": [
    "# # Installing gensim and seaborn due to problems with poetry\n",
    "\n",
    "# !pip install gensim seaborn"
   ]
  },
  {
   "cell_type": "code",
   "execution_count": 3,
   "metadata": {},
   "outputs": [],
   "source": [
    "from functools import partial\n",
    "import multiprocessing\n",
    "import random\n",
    "\n",
    "from gensim.models import Doc2Vec\n",
    "from gensim.models.doc2vec import TaggedDocument\n",
    "import matplotlib.pyplot as plt\n",
    "import nltk\n",
    "from nltk.corpus import stopwords\n",
    "from nltk.stem import SnowballStemmer\n",
    "from nltk.tokenize import wordpunct_tokenize, word_tokenize\n",
    "import pandas as pd\n",
    "import numpy as np\n",
    "from sklearn import utils\n",
    "from sklearn.metrics import accuracy_score, f1_score\n",
    "from sklearn.model_selection import train_test_split\n",
    "from sklearn.linear_model import LogisticRegression\n",
    "from sklearn.feature_extraction.text import TfidfVectorizer, CountVectorizer\n",
    "from sklearn.metrics import accuracy_score, confusion_matrix\n",
    "from sklearn.pipeline import Pipeline\n",
    "import seaborn as sns\n",
    "import string\n",
    "import tensorflow as tf\n",
    "from tqdm import tqdm\n",
    "\n",
    "from adthena_task.config import Config\n",
    "\n",
    "from baseline_utils import clean_text, tokenize_text, create_embedding_matrix, vec_for_learning\n",
    "\n",
    "%matplotlib inline"
   ]
  },
  {
   "cell_type": "code",
   "execution_count": 4,
   "metadata": {},
   "outputs": [],
   "source": [
    "config = Config()"
   ]
  },
  {
   "cell_type": "markdown",
   "metadata": {},
   "source": [
    "Downloading stopwords and Punkt Tokenizer Model from nltk package."
   ]
  },
  {
   "cell_type": "code",
   "execution_count": 5,
   "metadata": {},
   "outputs": [],
   "source": [
    "# nltk.download('stopwords')\n",
    "# nltk.download('punkt')"
   ]
  },
  {
   "cell_type": "code",
   "execution_count": 6,
   "metadata": {},
   "outputs": [],
   "source": [
    "np.random.seed(config.SEED)\n",
    "random.seed(config.SEED)"
   ]
  },
  {
   "cell_type": "markdown",
   "metadata": {},
   "source": [
    "Basic data loading and preparing for further analysis."
   ]
  },
  {
   "cell_type": "code",
   "execution_count": 7,
   "metadata": {},
   "outputs": [],
   "source": [
    "data = pd.read_csv(config.DATA_DIR_TRAIN, header=None)\n",
    "data.columns = [\"Query\", \"Label\"]\n",
    "data = utils.shuffle(data, random_state=config.SEED)\n",
    "\n",
    "# Creating stopwords from nltk and stemmer\n",
    "\n",
    "stop_words = set(stopwords.words(\"english\"))\n",
    "stemmer = SnowballStemmer(language=\"english\")"
   ]
  },
  {
   "cell_type": "markdown",
   "metadata": {},
   "source": [
    "Creating partial from function to clean text queries."
   ]
  },
  {
   "cell_type": "code",
   "execution_count": 8,
   "metadata": {},
   "outputs": [],
   "source": [
    "clean_text_partial = partial(clean_text, stemmer=stemmer, stop_words=stop_words)\n",
    "data[\"Clean_query\"] = data[\"Query\"].apply(clean_text_partial)"
   ]
  },
  {
   "cell_type": "code",
   "execution_count": 9,
   "metadata": {},
   "outputs": [],
   "source": [
    "train, val = train_test_split(data, test_size=config.TEST_SIZE, random_state=config.SEED)\n",
    "val, test = train_test_split(val, test_size=config.TEST_SIZE, random_state=config.SEED)\n",
    "\n",
    "train_tagged = train.apply(\n",
    "    lambda r: TaggedDocument(words=tokenize_text(r[\"Clean_query\"]), tags=[r[\"Label\"]]), axis=1)\n",
    "val_tagged = val.apply(\n",
    "    lambda r: TaggedDocument(words=tokenize_text(r[\"Clean_query\"]), tags=[r[\"Label\"]]), axis=1)\n",
    "test_tagged = test.apply(\n",
    "    lambda r: TaggedDocument(words=tokenize_text(r[\"Clean_query\"]), tags=[r[\"Label\"]]), axis=1)"
   ]
  },
  {
   "cell_type": "code",
   "execution_count": 10,
   "metadata": {},
   "outputs": [],
   "source": [
    "# !wget http://nlp.stanford.edu/data/wordvecs/glove.6B.zip\n",
    "# !unzip glove.6B.zip"
   ]
  },
  {
   "cell_type": "code",
   "execution_count": 11,
   "metadata": {},
   "outputs": [],
   "source": [
    "glove = pd.read_csv('glove.6B.100d.txt', sep=\" \", quoting=3, header=None, index_col=0)\n",
    "glove_embedding = {key: val.values for key, val in glove.T.items()}"
   ]
  },
  {
   "cell_type": "code",
   "execution_count": 12,
   "metadata": {},
   "outputs": [],
   "source": [
    "text=[\"The cat sat on mat\",\"we can play with model\"]\n",
    "\n",
    "tokenizer=tf.keras.preprocessing.text.Tokenizer(split=\" \")\n",
    "tokenizer.fit_on_texts(text)\n",
    "\n",
    "text_token=tokenizer.texts_to_sequences(text)\n",
    "\n",
    "embedding_matrix=create_embedding_matrix(tokenizer.word_index,embedding_dict=glove_embedding,dimension=100)"
   ]
  },
  {
   "cell_type": "code",
   "execution_count": 13,
   "metadata": {},
   "outputs": [
    {
     "name": "stderr",
     "output_type": "stream",
     "text": [
      "100%|██████████| 3945/3945 [00:00<00:00, 534759.53it/s]\n"
     ]
    }
   ],
   "source": [
    "cores = multiprocessing.cpu_count()\n",
    "model_dbow = Doc2Vec(dm=0, vector_size=300, negative=5, hs=0, min_count=2, sample = 0, workers=cores)\n",
    "model_dbow.build_vocab([x for x in tqdm(train_tagged.values)])"
   ]
  },
  {
   "cell_type": "code",
   "execution_count": 14,
   "metadata": {},
   "outputs": [
    {
     "name": "stderr",
     "output_type": "stream",
     "text": [
      "100%|██████████| 3945/3945 [00:00<00:00, 705849.73it/s]\n",
      "100%|██████████| 3945/3945 [00:00<00:00, 2118905.02it/s]\n",
      "100%|██████████| 3945/3945 [00:00<00:00, 1712359.44it/s]\n",
      "100%|██████████| 3945/3945 [00:00<00:00, 1796582.98it/s]\n",
      "100%|██████████| 3945/3945 [00:00<00:00, 2101947.32it/s]\n",
      "100%|██████████| 3945/3945 [00:00<00:00, 2243901.45it/s]\n",
      "100%|██████████| 3945/3945 [00:00<00:00, 2292080.52it/s]\n",
      "100%|██████████| 3945/3945 [00:00<00:00, 2335431.09it/s]\n",
      "100%|██████████| 3945/3945 [00:00<00:00, 2184648.70it/s]\n",
      "100%|██████████| 3945/3945 [00:00<00:00, 1699694.84it/s]\n",
      "100%|██████████| 3945/3945 [00:00<00:00, 1539212.03it/s]\n",
      "100%|██████████| 3945/3945 [00:00<00:00, 2142777.68it/s]\n",
      "100%|██████████| 3945/3945 [00:00<00:00, 2277567.69it/s]\n",
      "100%|██████████| 3945/3945 [00:00<00:00, 2351027.18it/s]\n",
      "100%|██████████| 3945/3945 [00:00<00:00, 2164925.98it/s]\n",
      "100%|██████████| 3945/3945 [00:00<00:00, 2370902.60it/s]\n",
      "100%|██████████| 3945/3945 [00:00<00:00, 2197998.04it/s]\n",
      "100%|██████████| 3945/3945 [00:00<00:00, 2297809.93it/s]\n",
      "100%|██████████| 3945/3945 [00:00<00:00, 2123255.39it/s]\n",
      "100%|██████████| 3945/3945 [00:00<00:00, 2193045.63it/s]\n",
      "100%|██████████| 3945/3945 [00:00<00:00, 2323298.13it/s]\n",
      "100%|██████████| 3945/3945 [00:00<00:00, 2317765.69it/s]\n",
      "100%|██████████| 3945/3945 [00:00<00:00, 2309677.45it/s]\n",
      "100%|██████████| 3945/3945 [00:00<00:00, 1997408.17it/s]\n",
      "100%|██████████| 3945/3945 [00:00<00:00, 2374986.26it/s]\n",
      "100%|██████████| 3945/3945 [00:00<00:00, 2190722.80it/s]\n",
      "100%|██████████| 3945/3945 [00:00<00:00, 2321994.01it/s]\n",
      "100%|██████████| 3945/3945 [00:00<00:00, 2264476.43it/s]\n",
      "100%|██████████| 3945/3945 [00:00<00:00, 2345029.66it/s]\n",
      "100%|██████████| 3945/3945 [00:00<00:00, 2320691.34it/s]\n"
     ]
    }
   ],
   "source": [
    "for epoch in range(30):\n",
    "    model_dbow.train(utils.shuffle([x for x in tqdm(train_tagged.values)], random_state=config.SEED), \n",
    "                     total_examples=len(train_tagged.values), epochs=1)\n",
    "    model_dbow.alpha -= 0.002\n",
    "    model_dbow.min_alpha = model_dbow.alpha"
   ]
  },
  {
   "cell_type": "code",
   "execution_count": 15,
   "metadata": {},
   "outputs": [],
   "source": [
    "y_train, X_train = vec_for_learning(model_dbow, train_tagged)\n",
    "y_val, X_val = vec_for_learning(model_dbow, val_tagged)\n",
    "y_test, X_test = vec_for_learning(model_dbow, test_tagged)"
   ]
  },
  {
   "cell_type": "code",
   "execution_count": 16,
   "metadata": {},
   "outputs": [
    {
     "name": "stderr",
     "output_type": "stream",
     "text": [
      "[Parallel(n_jobs=4)]: Using backend LokyBackend with 4 concurrent workers.\n"
     ]
    },
    {
     "name": "stdout",
     "output_type": "stream",
     "text": [
      "Validation accuracy 0.6850912778904665\n",
      "Validation F1 score: 0.6846793935480552\n",
      "Testing accuracy 0.6710593005575266\n",
      "Testing F1 score: 0.6713459123783398\n"
     ]
    },
    {
     "name": "stderr",
     "output_type": "stream",
     "text": [
      "[Parallel(n_jobs=4)]: Done   1 out of   1 | elapsed:    3.1s finished\n"
     ]
    }
   ],
   "source": [
    "logreg = LogisticRegression(n_jobs=cores, C=1e5, verbose=True)\n",
    "logreg.fit(X_train, y_train)\n",
    "y_pred_val = logreg.predict(X_val)\n",
    "y_pred = logreg.predict(X_test)\n",
    "print('Validation accuracy %s' % accuracy_score(y_val, y_pred_val))\n",
    "print('Validation F1 score: {}'.format(f1_score(y_val, y_pred_val, average='weighted')))\n",
    "print('Testing accuracy %s' % accuracy_score(y_test, y_pred))\n",
    "print('Testing F1 score: {}'.format(f1_score(y_test, y_pred, average='weighted')))"
   ]
  },
  {
   "cell_type": "code",
   "execution_count": 17,
   "metadata": {},
   "outputs": [],
   "source": [
    "## Confusion matrix"
   ]
  },
  {
   "cell_type": "code",
   "execution_count": 18,
   "metadata": {},
   "outputs": [],
   "source": [
    "conf_matrix = confusion_matrix(y_test, y_pred)"
   ]
  },
  {
   "cell_type": "code",
   "execution_count": 19,
   "metadata": {},
   "outputs": [
    {
     "data": {
      "text/plain": [
       "Text(0.5, 33.0, 'Predicted label')"
      ]
     },
     "execution_count": 19,
     "metadata": {},
     "output_type": "execute_result"
    },
    {
     "data": {
      "image/png": "[encoded data removed]",
      "text/plain": [
       "<Figure size 576x432 with 2 Axes>"
      ]
     },
     "metadata": {
      "needs_background": "light"
     },
     "output_type": "display_data"
    }
   ],
   "source": [
    "fig, ax = plt.subplots(figsize=(8, 6))\n",
    "df_cm = pd.DataFrame(conf_matrix, index=logreg.classes_, columns=logreg.classes_)\n",
    "sns.heatmap(df_cm,annot=True, fmt=\"d\", ax=ax)\n",
    "plt.ylabel(\"True label\")\n",
    "plt.xlabel(\"Predicted label\")"
   ]
  }
 ],
 "metadata": {
  "kernelspec": {
   "display_name": "adthena-task-fBQ-NFEo-py3.8",
   "language": "python",
   "name": "adthena-task-fbq-nfeo-py3.8"
  },
  "language_info": {
   "codemirror_mode": {
    "name": "ipython",
    "version": 3
   },
   "file_extension": ".py",
   "mimetype": "text/x-python",
   "name": "python",
   "nbconvert_exporter": "python",
   "pygments_lexer": "ipython3",
   "version": "3.8.5"
  }
 },
 "nbformat": 4,
 "nbformat_minor": 4
}
