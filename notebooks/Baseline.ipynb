{
 "cells": [
  {
   "cell_type": "code",
   "execution_count": 1,
   "metadata": {},
   "outputs": [],
   "source": [
    "import sys\n",
    "sys.path.append(\"../src\")"
   ]
  },
  {
   "cell_type": "code",
   "execution_count": 2,
   "metadata": {},
   "outputs": [
    {
     "name": "stdout",
     "output_type": "stream",
     "text": [
      "['/Users/lukaszbala/Documents/Python/adthena_task/notebooks', '/Users/lukaszbala/Documents/Python/adthena_task/notebooks', '/Users/lukaszbala/.local/bin', '/Users/lukaszbala/Library/Python/3.8/bin', '/Users/lukaszbala/anaconda3/lib/python38.zip', '/Users/lukaszbala/anaconda3/lib/python3.8', '/Users/lukaszbala/anaconda3/lib/python3.8/lib-dynload', '', '/Users/lukaszbala/Library/Caches/pypoetry/virtualenvs/adthena-task-fBQ-NFEo-py3.8/lib/python3.8/site-packages', '/Users/lukaszbala/Documents/Python/adthena_task/src', '/Users/lukaszbala/Library/Caches/pypoetry/virtualenvs/adthena-task-fBQ-NFEo-py3.8/lib/python3.8/site-packages/IPython/extensions', '/Users/lukaszbala/.ipython', '../src']\n"
     ]
    }
   ],
   "source": [
    "print(sys.path)"
   ]
  },
  {
   "cell_type": "code",
   "execution_count": 34,
   "metadata": {},
   "outputs": [
    {
     "name": "stdout",
     "output_type": "stream",
     "text": [
      "Requirement already satisfied: gensim in /Users/lukaszbala/Library/Caches/pypoetry/virtualenvs/adthena-task-fBQ-NFEo-py3.8/lib/python3.8/site-packages (3.8.3)\n",
      "Collecting seaborn\n",
      "  Downloading seaborn-0.11.1-py3-none-any.whl (285 kB)\n",
      "\u001b[K     |████████████████████████████████| 285 kB 1.0 MB/s eta 0:00:01\n",
      "\u001b[?25hRequirement already satisfied: scipy>=0.18.1 in /Users/lukaszbala/Library/Caches/pypoetry/virtualenvs/adthena-task-fBQ-NFEo-py3.8/lib/python3.8/site-packages (from gensim) (1.6.0)\n",
      "Requirement already satisfied: numpy>=1.11.3 in /Users/lukaszbala/Library/Caches/pypoetry/virtualenvs/adthena-task-fBQ-NFEo-py3.8/lib/python3.8/site-packages (from gensim) (1.19.5)\n",
      "Requirement already satisfied: six>=1.5.0 in /Users/lukaszbala/Library/Caches/pypoetry/virtualenvs/adthena-task-fBQ-NFEo-py3.8/lib/python3.8/site-packages (from gensim) (1.15.0)\n",
      "Requirement already satisfied: smart-open>=1.8.1 in /Users/lukaszbala/Library/Caches/pypoetry/virtualenvs/adthena-task-fBQ-NFEo-py3.8/lib/python3.8/site-packages (from gensim) (4.1.2)\n",
      "Requirement already satisfied: pandas>=0.23 in /Users/lukaszbala/Library/Caches/pypoetry/virtualenvs/adthena-task-fBQ-NFEo-py3.8/lib/python3.8/site-packages (from seaborn) (1.2.2)\n",
      "Requirement already satisfied: matplotlib>=2.2 in /Users/lukaszbala/Library/Caches/pypoetry/virtualenvs/adthena-task-fBQ-NFEo-py3.8/lib/python3.8/site-packages (from seaborn) (3.3.4)\n",
      "Requirement already satisfied: pytz>=2017.3 in /Users/lukaszbala/Library/Caches/pypoetry/virtualenvs/adthena-task-fBQ-NFEo-py3.8/lib/python3.8/site-packages (from pandas>=0.23->seaborn) (2021.1)\n",
      "Requirement already satisfied: python-dateutil>=2.7.3 in /Users/lukaszbala/Library/Caches/pypoetry/virtualenvs/adthena-task-fBQ-NFEo-py3.8/lib/python3.8/site-packages (from pandas>=0.23->seaborn) (2.8.1)\n",
      "Requirement already satisfied: kiwisolver>=1.0.1 in /Users/lukaszbala/Library/Caches/pypoetry/virtualenvs/adthena-task-fBQ-NFEo-py3.8/lib/python3.8/site-packages (from matplotlib>=2.2->seaborn) (1.3.1)\n",
      "Requirement already satisfied: cycler>=0.10 in /Users/lukaszbala/Library/Caches/pypoetry/virtualenvs/adthena-task-fBQ-NFEo-py3.8/lib/python3.8/site-packages (from matplotlib>=2.2->seaborn) (0.10.0)\n",
      "Requirement already satisfied: pyparsing!=2.0.4,!=2.1.2,!=2.1.6,>=2.0.3 in /Users/lukaszbala/Library/Caches/pypoetry/virtualenvs/adthena-task-fBQ-NFEo-py3.8/lib/python3.8/site-packages (from matplotlib>=2.2->seaborn) (2.4.7)\n",
      "Requirement already satisfied: pillow>=6.2.0 in /Users/lukaszbala/Library/Caches/pypoetry/virtualenvs/adthena-task-fBQ-NFEo-py3.8/lib/python3.8/site-packages (from matplotlib>=2.2->seaborn) (8.1.0)\n",
      "Installing collected packages: seaborn\n",
      "Successfully installed seaborn-0.11.1\n",
      "\u001b[33mWARNING: You are using pip version 20.2.2; however, version 21.0.1 is available.\n",
      "You should consider upgrading via the '/Users/lukaszbala/Library/Caches/pypoetry/virtualenvs/adthena-task-fBQ-NFEo-py3.8/bin/python -m pip install --upgrade pip' command.\u001b[0m\n"
     ]
    }
   ],
   "source": [
    "!pip install gensim seaborn"
   ]
  },
  {
   "cell_type": "code",
   "execution_count": 35,
   "metadata": {},
   "outputs": [],
   "source": [
    "from functools import partial\n",
    "import multiprocessing\n",
    "import random\n",
    "\n",
    "from gensim.models import Doc2Vec\n",
    "from gensim.models.doc2vec import TaggedDocument\n",
    "import matplotlib.pyplot as plt\n",
    "import nltk\n",
    "from nltk.corpus import stopwords\n",
    "from nltk.stem import SnowballStemmer\n",
    "from nltk.tokenize import wordpunct_tokenize, word_tokenize\n",
    "import pandas as pd\n",
    "import numpy as np\n",
    "from sklearn import utils\n",
    "from sklearn.model_selection import train_test_split\n",
    "from sklearn.linear_model import LogisticRegression\n",
    "from sklearn.feature_extraction.text import TfidfVectorizer, CountVectorizer\n",
    "from sklearn.metrics import accuracy_score, confusion_matrix\n",
    "from sklearn.pipeline import Pipeline\n",
    "import seaborn as sns\n",
    "import string\n",
    "import tensorflow as tf\n",
    "from tqdm import tqdm\n",
    "\n",
    "from adthena_task.config import Config\n",
    "\n",
    "%matplotlib inline"
   ]
  },
  {
   "cell_type": "code",
   "execution_count": 5,
   "metadata": {},
   "outputs": [],
   "source": [
    "config = Config()"
   ]
  },
  {
   "cell_type": "code",
   "execution_count": 6,
   "metadata": {},
   "outputs": [
    {
     "name": "stderr",
     "output_type": "stream",
     "text": [
      "[nltk_data] Downloading package stopwords to\n",
      "[nltk_data]     /Users/lukaszbala/nltk_data...\n",
      "[nltk_data]   Package stopwords is already up-to-date!\n",
      "[nltk_data] Downloading package punkt to\n",
      "[nltk_data]     /Users/lukaszbala/nltk_data...\n",
      "[nltk_data]   Package punkt is already up-to-date!\n"
     ]
    },
    {
     "data": {
      "text/plain": [
       "True"
      ]
     },
     "execution_count": 6,
     "metadata": {},
     "output_type": "execute_result"
    }
   ],
   "source": [
    "nltk.download('stopwords')\n",
    "nltk.download('punkt')"
   ]
  },
  {
   "cell_type": "code",
   "execution_count": 7,
   "metadata": {},
   "outputs": [],
   "source": [
    "np.random.seed(config.SEED)\n",
    "random.seed(config.SEED)"
   ]
  },
  {
   "cell_type": "code",
   "execution_count": 8,
   "metadata": {},
   "outputs": [],
   "source": [
    "def clean_text(text, stemmer):\n",
    "    text = str(text).lower()\n",
    "    tokens = [stemmer.stem(word) for word in wordpunct_tokenize(text) if word not in list(stop_words) + list(string.punctuation)]\n",
    "    text = \" \".join(tokens)\n",
    "    return text"
   ]
  },
  {
   "cell_type": "code",
   "execution_count": 9,
   "metadata": {},
   "outputs": [],
   "source": [
    "data = pd.read_csv(config.DATA_DIR_TRAIN, header=None)\n",
    "data.columns = [\"Query\", \"Label\"]\n",
    "data = utils.shuffle(data, random_state=config.SEED)"
   ]
  },
  {
   "cell_type": "code",
   "execution_count": 10,
   "metadata": {},
   "outputs": [],
   "source": [
    "stop_words = set(stopwords.words(\"english\"))\n",
    "stemmer = SnowballStemmer(language=\"english\")"
   ]
  },
  {
   "cell_type": "code",
   "execution_count": 11,
   "metadata": {},
   "outputs": [],
   "source": [
    "clean_text_partial = partial(clean_text, stemmer=stemmer)"
   ]
  },
  {
   "cell_type": "code",
   "execution_count": 12,
   "metadata": {},
   "outputs": [],
   "source": [
    "data[\"Clean_query\"] = data[\"Query\"].apply(clean_text_partial)"
   ]
  },
  {
   "cell_type": "code",
   "execution_count": 13,
   "metadata": {},
   "outputs": [],
   "source": [
    "data_prev = data.copy()\n",
    "data = data.iloc[:int(1e4), :]"
   ]
  },
  {
   "cell_type": "code",
   "execution_count": 14,
   "metadata": {},
   "outputs": [],
   "source": [
    "train, val = train_test_split(data, test_size=config.TEST_SIZE, random_state=config.SEED)\n",
    "val, test = train_test_split(val, test_size=config.TEST_SIZE, random_state=config.SEED)\n",
    "def tokenize_text(text):\n",
    "    tokens = []\n",
    "    for sent in nltk.sent_tokenize(text):\n",
    "        for word in nltk.word_tokenize(sent):\n",
    "            if len(word) < 2:\n",
    "                continue\n",
    "            tokens.append(word.lower())\n",
    "    return tokens\n",
    "train_tagged = train.apply(\n",
    "    lambda r: TaggedDocument(words=tokenize_text(r[\"Clean_query\"]), tags=[r[\"Label\"]]), axis=1)\n",
    "val_tagged = val.apply(\n",
    "    lambda r: TaggedDocument(words=tokenize_text(r[\"Clean_query\"]), tags=[r[\"Label\"]]), axis=1)\n",
    "test_tagged = test.apply(\n",
    "    lambda r: TaggedDocument(words=tokenize_text(r[\"Clean_query\"]), tags=[r[\"Label\"]]), axis=1)"
   ]
  },
  {
   "cell_type": "code",
   "execution_count": 15,
   "metadata": {},
   "outputs": [],
   "source": [
    "# !wget http://nlp.stanford.edu/data/wordvecs/glove.6B.zip\n",
    "# !unzip glove.6B.zip"
   ]
  },
  {
   "cell_type": "code",
   "execution_count": 16,
   "metadata": {},
   "outputs": [],
   "source": [
    "glove = pd.read_csv('glove.6B.100d.txt', sep=\" \", quoting=3, header=None, index_col=0)\n",
    "glove_embedding = {key: val.values for key, val in glove.T.items()}"
   ]
  },
  {
   "cell_type": "code",
   "execution_count": 17,
   "metadata": {},
   "outputs": [],
   "source": [
    "def create_embedding_matrix(word_index,embedding_dict,dimension):\n",
    "    embedding_matrix=np.zeros((len(word_index)+1,dimension))\n",
    "\n",
    "    for word,index in word_index.items():\n",
    "        if word in embedding_dict:\n",
    "            embedding_matrix[index]=embedding_dict[word]\n",
    "    return embedding_matrix\n",
    "\n",
    "text=[\"The cat sat on mat\",\"we can play with model\"]\n",
    "\n",
    "tokenizer=tf.keras.preprocessing.text.Tokenizer(split=\" \")\n",
    "tokenizer.fit_on_texts(text)\n",
    "\n",
    "text_token=tokenizer.texts_to_sequences(text)\n",
    "\n",
    "embedding_matrix=create_embedding_matrix(tokenizer.word_index,embedding_dict=glove_embedding,dimension=100)"
   ]
  },
  {
   "cell_type": "code",
   "execution_count": 18,
   "metadata": {},
   "outputs": [],
   "source": [
    "def vec_for_learning(model, tagged_docs):\n",
    "    sents = tagged_docs.values\n",
    "    targets, regressors = zip(*[(doc.tags[0], model.infer_vector(doc.words, steps=20)) for doc in sents])\n",
    "    return targets, regressors"
   ]
  },
  {
   "cell_type": "code",
   "execution_count": 21,
   "metadata": {},
   "outputs": [],
   "source": [
    "import multiprocessing\n",
    "cores = multiprocessing.cpu_count()"
   ]
  },
  {
   "cell_type": "code",
   "execution_count": 22,
   "metadata": {},
   "outputs": [
    {
     "name": "stderr",
     "output_type": "stream",
     "text": [
      "100%|██████████| 3945/3945 [00:00<00:00, 399500.92it/s]\n"
     ]
    }
   ],
   "source": [
    "model_dbow = Doc2Vec(dm=0, vector_size=300, negative=5, hs=0, min_count=2, sample = 0, workers=cores)\n",
    "model_dbow.build_vocab([x for x in tqdm(train_tagged.values)])"
   ]
  },
  {
   "cell_type": "code",
   "execution_count": 23,
   "metadata": {},
   "outputs": [
    {
     "name": "stderr",
     "output_type": "stream",
     "text": [
      "100%|██████████| 3945/3945 [00:00<00:00, 1235553.26it/s]\n",
      "100%|██████████| 3945/3945 [00:00<00:00, 1492695.47it/s]\n",
      "100%|██████████| 3945/3945 [00:00<00:00, 2003454.33it/s]\n",
      "100%|██████████| 3945/3945 [00:00<00:00, 2312582.71it/s]\n",
      "100%|██████████| 3945/3945 [00:00<00:00, 2213582.51it/s]\n",
      "100%|██████████| 3945/3945 [00:00<00:00, 2251534.80it/s]\n",
      "100%|██████████| 3945/3945 [00:00<00:00, 2284485.61it/s]\n",
      "100%|██████████| 3945/3945 [00:00<00:00, 2335760.77it/s]\n",
      "100%|██████████| 3945/3945 [00:00<00:00, 1589331.41it/s]\n",
      "100%|██████████| 3945/3945 [00:00<00:00, 2296215.55it/s]\n",
      "100%|██████████| 3945/3945 [00:00<00:00, 2218925.74it/s]\n",
      "100%|██████████| 3945/3945 [00:00<00:00, 2334772.02it/s]\n",
      "100%|██████████| 3945/3945 [00:00<00:00, 2062129.77it/s]\n",
      "100%|██████████| 3945/3945 [00:00<00:00, 2171175.60it/s]\n",
      "100%|██████████| 3945/3945 [00:00<00:00, 2103015.92it/s]\n",
      "100%|██████████| 3945/3945 [00:00<00:00, 2378400.07it/s]\n",
      "100%|██████████| 3945/3945 [00:00<00:00, 1321607.77it/s]\n",
      "100%|██████████| 3945/3945 [00:00<00:00, 2303247.39it/s]\n",
      "100%|██████████| 3945/3945 [00:00<00:00, 2376691.94it/s]\n",
      "100%|██████████| 3945/3945 [00:00<00:00, 2304530.54it/s]\n",
      "100%|██████████| 3945/3945 [00:00<00:00, 2336750.36it/s]\n",
      "100%|██████████| 3945/3945 [00:00<00:00, 2212398.62it/s]\n",
      "100%|██████████| 3945/3945 [00:00<00:00, 662020.06it/s]\n",
      "100%|██████████| 3945/3945 [00:00<00:00, 1496610.82it/s]\n",
      "100%|██████████| 3945/3945 [00:00<00:00, 2363452.26it/s]\n",
      "100%|██████████| 3945/3945 [00:00<00:00, 2308388.57it/s]\n",
      "100%|██████████| 3945/3945 [00:00<00:00, 2379084.01it/s]\n",
      "100%|██████████| 3945/3945 [00:00<00:00, 2268512.38it/s]\n",
      "100%|██████████| 3945/3945 [00:00<00:00, 2338401.54it/s]\n",
      "100%|██████████| 3945/3945 [00:00<00:00, 2280078.45it/s]\n"
     ]
    }
   ],
   "source": [
    "for epoch in range(30):\n",
    "    model_dbow.train(utils.shuffle([x for x in tqdm(train_tagged.values)]), total_examples=len(train_tagged.values), epochs=1)\n",
    "    model_dbow.alpha -= 0.002\n",
    "    model_dbow.min_alpha = model_dbow.alpha"
   ]
  },
  {
   "cell_type": "code",
   "execution_count": 24,
   "metadata": {},
   "outputs": [],
   "source": [
    "y_train, X_train = vec_for_learning(model_dbow, train_tagged)\n",
    "y_val, X_val = vec_for_learning(model_dbow, val_tagged)\n",
    "y_test, X_test = vec_for_learning(model_dbow, test_tagged)"
   ]
  },
  {
   "cell_type": "code",
   "execution_count": 29,
   "metadata": {},
   "outputs": [
    {
     "name": "stderr",
     "output_type": "stream",
     "text": [
      "[Parallel(n_jobs=4)]: Using backend LokyBackend with 4 concurrent workers.\n"
     ]
    },
    {
     "name": "stdout",
     "output_type": "stream",
     "text": [
      "Validation accuracy 0.6181541582150102\n",
      "Validation F1 score: 0.6210133433326678\n",
      "Testing accuracy 0.6188545362392296\n",
      "Testing F1 score: 0.6224253613739217\n"
     ]
    },
    {
     "name": "stderr",
     "output_type": "stream",
     "text": [
      "[Parallel(n_jobs=4)]: Done   1 out of   1 | elapsed:    2.4s finished\n"
     ]
    }
   ],
   "source": [
    "logreg = LogisticRegression(n_jobs=cores, C=1e5, verbose=True)\n",
    "logreg.fit(X_train, y_train)\n",
    "y_pred_val = logreg.predict(X_val)\n",
    "y_pred = logreg.predict(X_test)\n",
    "from sklearn.metrics import accuracy_score, f1_score\n",
    "print('Validation accuracy %s' % accuracy_score(y_val, y_pred_val))\n",
    "print('Validation F1 score: {}'.format(f1_score(y_val, y_pred_val, average='weighted')))\n",
    "print('Testing accuracy %s' % accuracy_score(y_test, y_pred))\n",
    "print('Testing F1 score: {}'.format(f1_score(y_test, y_pred, average='weighted')))"
   ]
  },
  {
   "cell_type": "code",
   "execution_count": 30,
   "metadata": {},
   "outputs": [],
   "source": [
    "## Confusion matrix"
   ]
  },
  {
   "cell_type": "code",
   "execution_count": 36,
   "metadata": {},
   "outputs": [],
   "source": [
    "conf_matrix = confusion_matrix(y_test, y_pred)"
   ]
  },
  {
   "cell_type": "code",
   "execution_count": 37,
   "metadata": {},
   "outputs": [
    {
     "data": {
      "text/plain": [
       "Text(0.5, 33.0, 'Predicted label')"
      ]
     },
     "execution_count": 37,
     "metadata": {},
     "output_type": "execute_result"
    },
    {
     "data": {
      "image/png": "[encoded data removed]",
      "text/plain": [
       "<Figure size 576x432 with 2 Axes>"
      ]
     },
     "metadata": {
      "needs_background": "light"
     },
     "output_type": "display_data"
    }
   ],
   "source": [
    "fig, ax = plt.subplots(figsize=(8, 6))\n",
    "df_cm = pd.DataFrame(conf_matrix, index=logreg.classes_, columns=logreg.classes_)\n",
    "sns.heatmap(df_cm,annot=True, fmt=\"d\", ax=ax)\n",
    "plt.ylabel(\"True label\")\n",
    "plt.xlabel(\"Predicted label\")"
   ]
  }
 ],
 "metadata": {
  "kernelspec": {
   "display_name": "adthena-task-fBQ-NFEo-py3.8",
   "language": "python",
   "name": "adthena-task-fbq-nfeo-py3.8"
  },
  "language_info": {
   "codemirror_mode": {
    "name": "ipython",
    "version": 3
   },
   "file_extension": ".py",
   "mimetype": "text/x-python",
   "name": "python",
   "nbconvert_exporter": "python",
   "pygments_lexer": "ipython3",
   "version": "3.8.5"
  }
 },
 "nbformat": 4,
 "nbformat_minor": 4
}
