{
 "cells": [
  {
   "cell_type": "markdown",
   "metadata": {},
   "source": [
    "## Exploratory data analysis"
   ]
  },
  {
   "cell_type": "markdown",
   "metadata": {},
   "source": [
    "In this notebook we are going to inspect dataset in order to have some notions of the data provided as well as compare it to the test set."
   ]
  },
  {
   "cell_type": "code",
   "execution_count": 1,
   "metadata": {},
   "outputs": [],
   "source": [
    "from collections import Counter\n",
    "\n",
    "import matplotlib.pyplot as plt\n",
    "import numpy as np\n",
    "import pandas as pd"
   ]
  },
  {
   "cell_type": "code",
   "execution_count": 2,
   "metadata": {},
   "outputs": [],
   "source": [
    "DATA_DIR_TRAIN = \"../data/trainSet.csv\"\n",
    "DATA_DIR_TEST = \"../data/candidateTestSet.txt\""
   ]
  },
  {
   "cell_type": "code",
   "execution_count": 3,
   "metadata": {},
   "outputs": [],
   "source": [
    "data = pd.read_csv(DATA_DIR_TRAIN, header=None)"
   ]
  },
  {
   "cell_type": "markdown",
   "metadata": {},
   "source": [
    "At first we would like to make sure how many different labels do we have and whether our classes are balanced."
   ]
  },
  {
   "cell_type": "code",
   "execution_count": 4,
   "metadata": {},
   "outputs": [
    {
     "name": "stdout",
     "output_type": "stream",
     "text": [
      "Number of records in the data is: 606823\n",
      "Number of unique records in the data is: 606823\n",
      "Number of unique labels is: 1419\n"
     ]
    }
   ],
   "source": [
    "data.columns = [\"Query\", \"Label\"]\n",
    "n_unique_labels = len(np.unique(data.loc[:, \"Label\"]))\n",
    "n_unique_queries = len(np.unique(data.loc[:, \"Query\"]))\n",
    "print(f\"Number of records in the data is: {data.shape[0]}\", \n",
    "      f\"Number of unique records in the data is: {n_unique_queries}\",\n",
    "      f\"Number of unique labels is: {n_unique_labels}\", sep=\"\\n\")"
   ]
  },
  {
   "cell_type": "markdown",
   "metadata": {},
   "source": [
    "We can confirm that there are no repeated queries in our training data."
   ]
  },
  {
   "cell_type": "code",
   "execution_count": 18,
   "metadata": {},
   "outputs": [
    {
     "data": {
      "image/png": "[encoded data removed]",
      "text/plain": [
       "<Figure size 432x288 with 1 Axes>"
      ]
     },
     "metadata": {
      "needs_background": "light"
     },
     "output_type": "display_data"
    }
   ],
   "source": [
    "plt.hist(data.loc[:, \"Label\"], bins = n_unique_labels)\n",
    "plt.show()"
   ]
  },
  {
   "cell_type": "markdown",
   "metadata": {},
   "source": [
    "One can observe that many classes appear in the range of 250-550 records, however there are some classes that have much less data as compared to majority. We are going to have a look at them."
   ]
  },
  {
   "cell_type": "code",
   "execution_count": 56,
   "metadata": {},
   "outputs": [
    {
     "name": "stdout",
     "output_type": "stream",
     "text": [
      "There are 31 classes that have less than 100 occurences in data.\n"
     ]
    }
   ],
   "source": [
    "count_dict = Counter(data.loc[:, \"Label\"])\n",
    "count_df = pd.DataFrame.from_dict(count_dict, orient='index')\n",
    "count_df = count_df.reset_index(level=0)\n",
    "count_df.columns = [\"Label\", \"Count\"]\n",
    "count_df_below_100 = count_df[count_df.loc[:, \"Count\"] < 100].sort_values(by=\"Count\")\n",
    "classes_below_100 = count_df_below_100.shape[0]\n",
    "print(f\"There are {classes_below_100} classes that have less than 100 occurences in data.\")"
   ]
  },
  {
   "cell_type": "markdown",
   "metadata": {},
   "source": [
    "Let's have a look at some examples of those:"
   ]
  },
  {
   "cell_type": "code",
   "execution_count": 71,
   "metadata": {},
   "outputs": [
    {
     "name": "stdout",
     "output_type": "stream",
     "text": [
      "                                       Query  Label\n",
      "124007  client onboarding investment banking    587\n",
      "143201                      fintech big data    587\n",
      "333393      innovation in financial services    587\n",
      "373542                         m commerce uk    587\n",
      "                         Query  Label\n",
      "141516      sage x3 consultant    826\n",
      "149090        beko engineering    826\n",
      "190202    cv consultant london    826\n",
      "208824  informatica consultant    826\n",
      "321020   recommend a good book    826\n",
      "                                        Query  Label\n",
      "55065            whos exempt from bedroom tax   1309\n",
      "82833             why should people volunteer   1309\n",
      "208752  who is exempt from paying bedroom tax   1309\n",
      "291974            exempt from bedroom tax dla   1309\n",
      "375177                       polish army tent   1309\n",
      "                                        Query  Label\n",
      "20116   legal and general investments address    554\n",
      "26369                           legal general    554\n",
      "135853    www legalandgeneral com investments    554\n",
      "331897       general and legal life insurance    554\n",
      "356054     rechtsschutzversicherung vergleich    554\n",
      "                                 Query  Label\n",
      "31229                        revo rl70    173\n",
      "57336        pny powerpack 5200 review    173\n",
      "166062  autobiography of george muller    173\n",
      "197689              pny powerpack 5200    173\n",
      "256960            support direct sales    173\n"
     ]
    }
   ],
   "source": [
    "for index in range(5):\n",
    "    label = count_df_below_100.iloc[index, 0]\n",
    "    print(data[data.loc[:, \"Label\"] == label].head(5))"
   ]
  },
  {
   "cell_type": "markdown",
   "metadata": {},
   "source": [
    "We can have a general notion that people from this group are probably not very interested in financial and legal topics."
   ]
  },
  {
   "cell_type": "code",
   "execution_count": null,
   "metadata": {},
   "outputs": [],
   "source": []
  }
 ],
 "metadata": {
  "kernelspec": {
   "display_name": "adthena-task-fBQ-NFEo-py3.8",
   "language": "python",
   "name": "adthena-task-fbq-nfeo-py3.8"
  },
  "language_info": {
   "codemirror_mode": {
    "name": "ipython",
    "version": 3
   },
   "file_extension": ".py",
   "mimetype": "text/x-python",
   "name": "python",
   "nbconvert_exporter": "python",
   "pygments_lexer": "ipython3",
   "version": "3.8.5"
  }
 },
 "nbformat": 4,
 "nbformat_minor": 4
}
